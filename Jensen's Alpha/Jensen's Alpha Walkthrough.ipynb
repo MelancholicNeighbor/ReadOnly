{
 "cells": [
  {
   "cell_type": "markdown",
   "metadata": {},
   "source": [
    "# Jensen's Alpha\n",
    "\n",
    "### CFA for a day\n",
    "\n",
    "The CFA exams are hard to crack. There's no need to take them if you already know where to invest your money. Together, you and I will create a quick portfolio, and then measure how it does and how its performance reflects onto you."
   ]
  },
  {
   "cell_type": "markdown",
   "metadata": {},
   "source": [
    "### Our Portfolio\n",
    "\n",
    "Let's construct a portfolio that is simple to understand. That means there is only one share of every security. You're a junior in college, going to a big state school, and your portfolio will reflect that. You use Netflix to watch shows, Chegg to cheat on your homework, and Starbucks to keep you awake. More and more of your shopping is done at Target so that seems like a good investment. On Wednesday, Thursday, Friday, and Saturday, you go out and black out so your portfolio will embody this with Budlight and a sprinkle of a volatility futures. No one is really that special. There are 40,000 people at your state school and the US has 50 states, therefore a lot of other students like you do the same thing. So there is our portfolio: Chegg, Starbucks, Netflix, Target, Budlight, and a VIX futures ETF. \n",
    "\n",
    "How do we know if our portfolio is good? If our portfolio beats the market, that must mean it is good. But is it doing better than the market always? Does it just follow it closely, sometimes above, sometimes below?"
   ]
  },
  {
   "cell_type": "markdown",
   "metadata": {},
   "source": [
    "### Jensen's Alpha\n",
    "\n",
    "Jensen's Alpha, Jensen's Measure, Alpha, Jensen's Performance Index, this measure comes in many different names but they all mean the same thing. \n",
    "\n",
    "> The goal of this measure is to illustrate the return of the portfolio that is unexplained by the expected return. \n",
    "\n",
    "That is a loaded statement, but when split into chunks it gets to the purpose of this index. In theory, if you believe the efficient market hypothesis, stock prices reflect all public information available, and to perform better than the market consistently, an investor must be operating on non-public information or be inherently riskier. This means there are no market inefficiencies to exploit like Billy Bean. To reference our statement in the block, this is the *expected return*, for now. However, sometimes a risk-adjusted portfolio's returns to beat the market. Theoretically, this should not be the case so something else is at play. That something else is our Jensen's alpha. Active fund managers will call this **skill**, old-school investors would call this **luck**, and your mom would call it a **whose-a-whats-it**. Different strokes for different folks. The point is that excess return should not be there, and we do not know why it is there; we just only know it is there and it has to be measured."
   ]
  },
  {
   "cell_type": "markdown",
   "metadata": {},
   "source": [
    "### The Equation\n",
    "\n",
    "Our equation has a nice flow and only has one statistically derived variable. $ \\beta _{i,M} $ is just called beta typically in finance. It is a measure of risk, by focusing on how the market and the portfolio move together. The equation uses the beta of our portfolio on the return of the market against the risk-free rate, to effectively say how well did the market do given our portfolio's level of volatility. So the whole recipe is: \n",
    "\n",
    "$$ \\alpha = R_i - (R_f + \\beta_{i,M}(R_M - R_f)) $$\n",
    "\n",
    "You can see from the equation where this idea of unexplained returns originates. We know how our portfolio did, that's subscript i, and we know how the market performed against the risk-free rate, adjusted for how volatile our own portfolio is. Therefore, the difference is unexplained. If that difference is positive, you are a really good hedge fund manager. If that difference is negative, the market makers are conspiring against you, that has to be the reason."
   ]
  },
  {
   "cell_type": "markdown",
   "metadata": {},
   "source": [
    "### Setup\n",
    "\n",
    "Below here we load in our data taken monthly from the past year, as well as any libraries we will need. Then we will define the risk-free rate as 1.9%, which is near what the T-bill has been hovering around. From there, we will calculate the return of the market and our portfolio from month to month."
   ]
  },
  {
   "cell_type": "code",
   "execution_count": 10,
   "metadata": {},
   "outputs": [],
   "source": [
    "import pandas as pd\n",
    "import numpy as np\n",
    "import matplotlib.pyplot as plt\n",
    "from matplotlib import style\n",
    "import os\n",
    "path = \"C:\\\\\\\\Users\\\\\\AnthonyS/DS Stuff/Mathematical Foundation Notebooks/Jensen's Alpha\"\n",
    "portfolio = pd.read_csv(path + \"/portfolio.csv\")\n",
    "benchmark = pd.read_csv(path + \"/benchmark.csv\")\n",
    "%matplotlib inline\n",
    "style.use('ggplot')"
   ]
  },
  {
   "cell_type": "code",
   "execution_count": 11,
   "metadata": {},
   "outputs": [
    {
     "data": {
      "text/html": [
       "<div>\n",
       "<style scoped>\n",
       "    .dataframe tbody tr th:only-of-type {\n",
       "        vertical-align: middle;\n",
       "    }\n",
       "\n",
       "    .dataframe tbody tr th {\n",
       "        vertical-align: top;\n",
       "    }\n",
       "\n",
       "    .dataframe thead th {\n",
       "        text-align: right;\n",
       "    }\n",
       "</style>\n",
       "<table border=\"1\" class=\"dataframe\">\n",
       "  <thead>\n",
       "    <tr style=\"text-align: right;\">\n",
       "      <th></th>\n",
       "      <th>chgg</th>\n",
       "      <th>sbux</th>\n",
       "      <th>bud</th>\n",
       "      <th>nflx</th>\n",
       "      <th>tgt</th>\n",
       "      <th>uvxy</th>\n",
       "      <th>mv</th>\n",
       "      <th>return</th>\n",
       "    </tr>\n",
       "  </thead>\n",
       "  <tbody>\n",
       "    <tr>\n",
       "      <th>0</th>\n",
       "      <td>32.380001</td>\n",
       "      <td>53.529999</td>\n",
       "      <td>91.959999</td>\n",
       "      <td>363.600006</td>\n",
       "      <td>88.949997</td>\n",
       "      <td>42.450001</td>\n",
       "      <td>672.870003</td>\n",
       "      <td>0.000000</td>\n",
       "    </tr>\n",
       "    <tr>\n",
       "      <th>1</th>\n",
       "      <td>27.680000</td>\n",
       "      <td>55.889999</td>\n",
       "      <td>87.059998</td>\n",
       "      <td>363.649994</td>\n",
       "      <td>84.839996</td>\n",
       "      <td>39.040001</td>\n",
       "      <td>658.159988</td>\n",
       "      <td>-0.021862</td>\n",
       "    </tr>\n",
       "    <tr>\n",
       "      <th>2</th>\n",
       "      <td>26.639999</td>\n",
       "      <td>64.480003</td>\n",
       "      <td>75.970001</td>\n",
       "      <td>315.440002</td>\n",
       "      <td>85.349998</td>\n",
       "      <td>57.150002</td>\n",
       "      <td>625.030005</td>\n",
       "      <td>-0.050337</td>\n",
       "    </tr>\n",
       "    <tr>\n",
       "      <th>3</th>\n",
       "      <td>28.820000</td>\n",
       "      <td>67.500000</td>\n",
       "      <td>75.879997</td>\n",
       "      <td>290.299988</td>\n",
       "      <td>72.339996</td>\n",
       "      <td>47.799999</td>\n",
       "      <td>582.639980</td>\n",
       "      <td>-0.067821</td>\n",
       "    </tr>\n",
       "    <tr>\n",
       "      <th>4</th>\n",
       "      <td>28.490000</td>\n",
       "      <td>64.320000</td>\n",
       "      <td>65.910004</td>\n",
       "      <td>267.660004</td>\n",
       "      <td>66.440002</td>\n",
       "      <td>77.919998</td>\n",
       "      <td>570.740008</td>\n",
       "      <td>-0.020424</td>\n",
       "    </tr>\n",
       "    <tr>\n",
       "      <th>5</th>\n",
       "      <td>35.400002</td>\n",
       "      <td>68.110001</td>\n",
       "      <td>76.839996</td>\n",
       "      <td>339.850006</td>\n",
       "      <td>71.169998</td>\n",
       "      <td>52.029999</td>\n",
       "      <td>643.400002</td>\n",
       "      <td>0.127308</td>\n",
       "    </tr>\n",
       "    <tr>\n",
       "      <th>6</th>\n",
       "      <td>40.419998</td>\n",
       "      <td>70.849998</td>\n",
       "      <td>81.959999</td>\n",
       "      <td>357.320007</td>\n",
       "      <td>72.940002</td>\n",
       "      <td>40.880001</td>\n",
       "      <td>664.370005</td>\n",
       "      <td>0.032592</td>\n",
       "    </tr>\n",
       "    <tr>\n",
       "      <th>7</th>\n",
       "      <td>37.750000</td>\n",
       "      <td>73.959999</td>\n",
       "      <td>83.639999</td>\n",
       "      <td>366.959991</td>\n",
       "      <td>79.970001</td>\n",
       "      <td>37.849998</td>\n",
       "      <td>680.129988</td>\n",
       "      <td>0.023722</td>\n",
       "    </tr>\n",
       "    <tr>\n",
       "      <th>8</th>\n",
       "      <td>34.740002</td>\n",
       "      <td>77.519997</td>\n",
       "      <td>87.809998</td>\n",
       "      <td>378.809998</td>\n",
       "      <td>75.669998</td>\n",
       "      <td>33.590000</td>\n",
       "      <td>688.139993</td>\n",
       "      <td>0.011777</td>\n",
       "    </tr>\n",
       "    <tr>\n",
       "      <th>9</th>\n",
       "      <td>35.950001</td>\n",
       "      <td>76.220001</td>\n",
       "      <td>82.279999</td>\n",
       "      <td>336.630005</td>\n",
       "      <td>82.949997</td>\n",
       "      <td>40.560001</td>\n",
       "      <td>654.590004</td>\n",
       "      <td>-0.048755</td>\n",
       "    </tr>\n",
       "    <tr>\n",
       "      <th>10</th>\n",
       "      <td>39.400002</td>\n",
       "      <td>84.550003</td>\n",
       "      <td>88.430000</td>\n",
       "      <td>374.600006</td>\n",
       "      <td>86.940002</td>\n",
       "      <td>28.910000</td>\n",
       "      <td>702.830013</td>\n",
       "      <td>0.073695</td>\n",
       "    </tr>\n",
       "    <tr>\n",
       "      <th>11</th>\n",
       "      <td>45.029999</td>\n",
       "      <td>95.379997</td>\n",
       "      <td>100.459999</td>\n",
       "      <td>319.500000</td>\n",
       "      <td>82.620003</td>\n",
       "      <td>30.120001</td>\n",
       "      <td>673.109999</td>\n",
       "      <td>-0.042286</td>\n",
       "    </tr>\n",
       "  </tbody>\n",
       "</table>\n",
       "</div>"
      ],
      "text/plain": [
       "         chgg       sbux         bud        nflx        tgt       uvxy  \\\n",
       "0   32.380001  53.529999   91.959999  363.600006  88.949997  42.450001   \n",
       "1   27.680000  55.889999   87.059998  363.649994  84.839996  39.040001   \n",
       "2   26.639999  64.480003   75.970001  315.440002  85.349998  57.150002   \n",
       "3   28.820000  67.500000   75.879997  290.299988  72.339996  47.799999   \n",
       "4   28.490000  64.320000   65.910004  267.660004  66.440002  77.919998   \n",
       "5   35.400002  68.110001   76.839996  339.850006  71.169998  52.029999   \n",
       "6   40.419998  70.849998   81.959999  357.320007  72.940002  40.880001   \n",
       "7   37.750000  73.959999   83.639999  366.959991  79.970001  37.849998   \n",
       "8   34.740002  77.519997   87.809998  378.809998  75.669998  33.590000   \n",
       "9   35.950001  76.220001   82.279999  336.630005  82.949997  40.560001   \n",
       "10  39.400002  84.550003   88.430000  374.600006  86.940002  28.910000   \n",
       "11  45.029999  95.379997  100.459999  319.500000  82.620003  30.120001   \n",
       "\n",
       "            mv    return  \n",
       "0   672.870003  0.000000  \n",
       "1   658.159988 -0.021862  \n",
       "2   625.030005 -0.050337  \n",
       "3   582.639980 -0.067821  \n",
       "4   570.740008 -0.020424  \n",
       "5   643.400002  0.127308  \n",
       "6   664.370005  0.032592  \n",
       "7   680.129988  0.023722  \n",
       "8   688.139993  0.011777  \n",
       "9   654.590004 -0.048755  \n",
       "10  702.830013  0.073695  \n",
       "11  673.109999 -0.042286  "
      ]
     },
     "execution_count": 11,
     "metadata": {},
     "output_type": "execute_result"
    }
   ],
   "source": [
    "rfr = 0.0190\n",
    "portfolio['mv'] = portfolio.sum(axis = 1)\n",
    "portfolio['return'] = portfolio['mv'].pct_change()\n",
    "portfolio.fillna(0)"
   ]
  },
  {
   "cell_type": "code",
   "execution_count": 12,
   "metadata": {},
   "outputs": [
    {
     "data": {
      "text/html": [
       "<div>\n",
       "<style scoped>\n",
       "    .dataframe tbody tr th:only-of-type {\n",
       "        vertical-align: middle;\n",
       "    }\n",
       "\n",
       "    .dataframe tbody tr th {\n",
       "        vertical-align: top;\n",
       "    }\n",
       "\n",
       "    .dataframe thead th {\n",
       "        text-align: right;\n",
       "    }\n",
       "</style>\n",
       "<table border=\"1\" class=\"dataframe\">\n",
       "  <thead>\n",
       "    <tr style=\"text-align: right;\">\n",
       "      <th></th>\n",
       "      <th>sp500</th>\n",
       "      <th>return</th>\n",
       "    </tr>\n",
       "  </thead>\n",
       "  <tbody>\n",
       "    <tr>\n",
       "      <th>0</th>\n",
       "      <td>2896.719971</td>\n",
       "      <td>0.000000</td>\n",
       "    </tr>\n",
       "    <tr>\n",
       "      <th>1</th>\n",
       "      <td>2901.610107</td>\n",
       "      <td>0.001688</td>\n",
       "    </tr>\n",
       "    <tr>\n",
       "      <th>2</th>\n",
       "      <td>2738.310059</td>\n",
       "      <td>-0.056279</td>\n",
       "    </tr>\n",
       "    <tr>\n",
       "      <th>3</th>\n",
       "      <td>2790.370117</td>\n",
       "      <td>0.019012</td>\n",
       "    </tr>\n",
       "    <tr>\n",
       "      <th>4</th>\n",
       "      <td>2510.030029</td>\n",
       "      <td>-0.100467</td>\n",
       "    </tr>\n",
       "    <tr>\n",
       "      <th>5</th>\n",
       "      <td>2706.530029</td>\n",
       "      <td>0.078286</td>\n",
       "    </tr>\n",
       "    <tr>\n",
       "      <th>6</th>\n",
       "      <td>2803.689941</td>\n",
       "      <td>0.035898</td>\n",
       "    </tr>\n",
       "    <tr>\n",
       "      <th>7</th>\n",
       "      <td>2867.189941</td>\n",
       "      <td>0.022649</td>\n",
       "    </tr>\n",
       "    <tr>\n",
       "      <th>8</th>\n",
       "      <td>2923.729980</td>\n",
       "      <td>0.019720</td>\n",
       "    </tr>\n",
       "    <tr>\n",
       "      <th>9</th>\n",
       "      <td>2744.449951</td>\n",
       "      <td>-0.061319</td>\n",
       "    </tr>\n",
       "    <tr>\n",
       "      <th>10</th>\n",
       "      <td>2964.330078</td>\n",
       "      <td>0.080118</td>\n",
       "    </tr>\n",
       "    <tr>\n",
       "      <th>11</th>\n",
       "      <td>2953.560059</td>\n",
       "      <td>-0.003633</td>\n",
       "    </tr>\n",
       "  </tbody>\n",
       "</table>\n",
       "</div>"
      ],
      "text/plain": [
       "          sp500    return\n",
       "0   2896.719971  0.000000\n",
       "1   2901.610107  0.001688\n",
       "2   2738.310059 -0.056279\n",
       "3   2790.370117  0.019012\n",
       "4   2510.030029 -0.100467\n",
       "5   2706.530029  0.078286\n",
       "6   2803.689941  0.035898\n",
       "7   2867.189941  0.022649\n",
       "8   2923.729980  0.019720\n",
       "9   2744.449951 -0.061319\n",
       "10  2964.330078  0.080118\n",
       "11  2953.560059 -0.003633"
      ]
     },
     "execution_count": 12,
     "metadata": {},
     "output_type": "execute_result"
    }
   ],
   "source": [
    "benchmark['return'] = benchmark['sp500'].pct_change()\n",
    "benchmark.fillna(0)"
   ]
  },
  {
   "cell_type": "code",
   "execution_count": 13,
   "metadata": {},
   "outputs": [
    {
     "name": "stdout",
     "output_type": "stream",
     "text": [
      "0.763719685769265\n"
     ]
    }
   ],
   "source": [
    "#beta calculation\n",
    "beta = (portfolio['return'].cov(benchmark['return'])) / benchmark['return'].var()\n",
    "print (beta)"
   ]
  },
  {
   "cell_type": "markdown",
   "metadata": {},
   "source": [
    "Right above this we calculate our beta. Our beta is 0.7637. When your beta is below 1, your portfolio is less volatile than the market. This is the opposite if your beta is above 1."
   ]
  },
  {
   "cell_type": "code",
   "execution_count": 14,
   "metadata": {},
   "outputs": [],
   "source": [
    "jensen = pd.DataFrame()\n",
    "jensen['alpha'] = portfolio['return'] - (rfr + beta * benchmark['return'].subtract(rfr))"
   ]
  },
  {
   "cell_type": "code",
   "execution_count": 15,
   "metadata": {},
   "outputs": [
    {
     "data": {
      "text/html": [
       "<div>\n",
       "<style scoped>\n",
       "    .dataframe tbody tr th:only-of-type {\n",
       "        vertical-align: middle;\n",
       "    }\n",
       "\n",
       "    .dataframe tbody tr th {\n",
       "        vertical-align: top;\n",
       "    }\n",
       "\n",
       "    .dataframe thead th {\n",
       "        text-align: right;\n",
       "    }\n",
       "</style>\n",
       "<table border=\"1\" class=\"dataframe\">\n",
       "  <thead>\n",
       "    <tr style=\"text-align: right;\">\n",
       "      <th></th>\n",
       "      <th>alpha</th>\n",
       "    </tr>\n",
       "  </thead>\n",
       "  <tbody>\n",
       "    <tr>\n",
       "      <th>0</th>\n",
       "      <td>0.000000</td>\n",
       "    </tr>\n",
       "    <tr>\n",
       "      <th>1</th>\n",
       "      <td>-0.027640</td>\n",
       "    </tr>\n",
       "    <tr>\n",
       "      <th>2</th>\n",
       "      <td>-0.011845</td>\n",
       "    </tr>\n",
       "    <tr>\n",
       "      <th>3</th>\n",
       "      <td>-0.086830</td>\n",
       "    </tr>\n",
       "    <tr>\n",
       "      <th>4</th>\n",
       "      <td>0.051815</td>\n",
       "    </tr>\n",
       "    <tr>\n",
       "      <th>5</th>\n",
       "      <td>0.063031</td>\n",
       "    </tr>\n",
       "    <tr>\n",
       "      <th>6</th>\n",
       "      <td>0.000687</td>\n",
       "    </tr>\n",
       "    <tr>\n",
       "      <th>7</th>\n",
       "      <td>0.001935</td>\n",
       "    </tr>\n",
       "    <tr>\n",
       "      <th>8</th>\n",
       "      <td>-0.007772</td>\n",
       "    </tr>\n",
       "    <tr>\n",
       "      <th>9</th>\n",
       "      <td>-0.006413</td>\n",
       "    </tr>\n",
       "    <tr>\n",
       "      <th>10</th>\n",
       "      <td>0.008018</td>\n",
       "    </tr>\n",
       "    <tr>\n",
       "      <th>11</th>\n",
       "      <td>-0.044001</td>\n",
       "    </tr>\n",
       "  </tbody>\n",
       "</table>\n",
       "</div>"
      ],
      "text/plain": [
       "       alpha\n",
       "0   0.000000\n",
       "1  -0.027640\n",
       "2  -0.011845\n",
       "3  -0.086830\n",
       "4   0.051815\n",
       "5   0.063031\n",
       "6   0.000687\n",
       "7   0.001935\n",
       "8  -0.007772\n",
       "9  -0.006413\n",
       "10  0.008018\n",
       "11 -0.044001"
      ]
     },
     "execution_count": 15,
     "metadata": {},
     "output_type": "execute_result"
    }
   ],
   "source": [
    "jensen.fillna(0)"
   ]
  },
  {
   "cell_type": "code",
   "execution_count": 16,
   "metadata": {},
   "outputs": [],
   "source": [
    "plot_df = pd.DataFrame()\n",
    "plot_df['\\$TONY'] = portfolio['return']\n",
    "plot_df['Market'] = benchmark['return']"
   ]
  },
  {
   "cell_type": "code",
   "execution_count": 17,
   "metadata": {},
   "outputs": [
    {
     "data": {
      "image/png": "[encoded data removed]",
      "text/plain": [
       "<Figure size 432x288 with 1 Axes>"
      ]
     },
     "metadata": {},
     "output_type": "display_data"
    }
   ],
   "source": [
    "fig = plt.figure()\n",
    "fig.suptitle('Performance of \\$TONY')\n",
    "plt.plot(plot_df['\\$TONY'], label = '\\$TONY')\n",
    "plt.plot(plot_df['Market'], label = 'Market')\n",
    "plt.axhline(y = 0, color = 'r', linestyle = '-')\n",
    "plt.xlabel('Month')\n",
    "plt.ylabel('Return')\n",
    "plt.legend()\n",
    "plt.show()"
   ]
  },
  {
   "cell_type": "markdown",
   "metadata": {},
   "source": [
    "### Performance\n",
    "\n",
    "As you can see our portfolio performs relatively closely to the market. Not bad for just picking securities that embodied your college life."
   ]
  },
  {
   "cell_type": "code",
   "execution_count": 18,
   "metadata": {},
   "outputs": [
    {
     "data": {
      "image/png": "[encoded data removed]",
      "text/plain": [
       "<Figure size 432x288 with 1 Axes>"
      ]
     },
     "metadata": {},
     "output_type": "display_data"
    }
   ],
   "source": [
    "fig = plt.figure()\n",
    "fig.suptitle('Jensen\\'s Alpha of \\$TONY')\n",
    "plt.plot(jensen['alpha'], label = 'Alpha')\n",
    "plt.axhline(y = 0, color = 'r', linestyle = '-')\n",
    "plt.xlabel('Month')\n",
    "plt.ylabel('Return')\n",
    "plt.legend()\n",
    "plt.show()"
   ]
  },
  {
   "cell_type": "markdown",
   "metadata": {},
   "source": [
    "### Conclusion\n",
    "\n",
    "Above is our alpha plotted out. You will notice that it follows roughly the same path as our portfolio against the market. That makes perfect sense, since our equation is meant to describe the difference between the two. We can learn a lot from this graph. For instance, we had a positive alpha from our skill of picking securities that thrive during the school semesters. You and me and Wall Street can disregard the first negative part of the because that was during the Great Winter and December Recession of 2018, which was not caused by investors misvaluing securities or companies performing poorly. It was actually caused by algorithms, and that's out of our hands. Good for us for staying solvent during that. The rest of the time we have been up, performing well, choosing skillfully, the only negatives were during trade war tweets. \n",
    "\n",
    "More importantly, this is an illustrated version of a fundamental measure of your portfolio. We can build on this and make it more complex by adding and subtracting securities at specific points in time by timing the market. Our portfolio could be bolstered by bonds, or derivatives that offer better returns than just securities. The sky is the limit bud."
   ]
  }
 ],
 "metadata": {
  "kernelspec": {
   "display_name": "Python 3",
   "language": "python",
   "name": "python3"
  },
  "language_info": {
   "codemirror_mode": {
    "name": "ipython",
    "version": 3
   },
   "file_extension": ".py",
   "mimetype": "text/x-python",
   "name": "python",
   "nbconvert_exporter": "python",
   "pygments_lexer": "ipython3",
   "version": "3.6.7"
  }
 },
 "nbformat": 4,
 "nbformat_minor": 2
}
